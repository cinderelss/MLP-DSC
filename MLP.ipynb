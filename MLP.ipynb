{
  "nbformat": 4,
  "nbformat_minor": 0,
  "metadata": {
    "colab": {
      "provenance": []
    },
    "kernelspec": {
      "name": "python3",
      "display_name": "Python 3"
    },
    "language_info": {
      "name": "python"
    }
  },
  "cells": [
    {
      "cell_type": "code",
      "execution_count": 8,
      "metadata": {
        "colab": {
          "base_uri": "https://localhost:8080/",
          "height": 339
        },
        "id": "ncAOszAhE0Mv",
        "outputId": "9e07d3fc-4c64-45e4-8abd-6a0304311fe1"
      },
      "outputs": [
        {
          "output_type": "error",
          "ename": "ModuleNotFoundError",
          "evalue": "ignored",
          "traceback": [
            "\u001b[0;31m---------------------------------------------------------------------------\u001b[0m",
            "\u001b[0;31mModuleNotFoundError\u001b[0m                       Traceback (most recent call last)",
            "\u001b[0;32m<ipython-input-8-fdb1215e5eff>\u001b[0m in \u001b[0;36m<module>\u001b[0;34m\u001b[0m\n\u001b[1;32m      2\u001b[0m \u001b[0;32mimport\u001b[0m \u001b[0mmatplotlib\u001b[0m\u001b[0;34m.\u001b[0m\u001b[0mpyplot\u001b[0m \u001b[0;32mas\u001b[0m \u001b[0mplt\u001b[0m\u001b[0;34m\u001b[0m\u001b[0;34m\u001b[0m\u001b[0m\n\u001b[1;32m      3\u001b[0m \u001b[0;32mimport\u001b[0m \u001b[0mpandas\u001b[0m \u001b[0;32mas\u001b[0m \u001b[0mpd\u001b[0m\u001b[0;34m\u001b[0m\u001b[0;34m\u001b[0m\u001b[0m\n\u001b[0;32m----> 4\u001b[0;31m \u001b[0;32mfrom\u001b[0m \u001b[0mData\u001b[0m \u001b[0;32mimport\u001b[0m \u001b[0mdataset\u001b[0m\u001b[0;34m,\u001b[0m \u001b[0mlabels\u001b[0m\u001b[0;34m\u001b[0m\u001b[0;34m\u001b[0m\u001b[0m\n\u001b[0m",
            "\u001b[0;31mModuleNotFoundError\u001b[0m: No module named 'Data'",
            "",
            "\u001b[0;31m---------------------------------------------------------------------------\u001b[0;32m\nNOTE: If your import is failing due to a missing package, you can\nmanually install dependencies using either !pip or !apt.\n\nTo view examples of installing some common dependencies, click the\n\"Open Examples\" button below.\n\u001b[0;31m---------------------------------------------------------------------------\u001b[0m\n"
          ],
          "errorDetails": {
            "actions": [
              {
                "action": "open_url",
                "actionText": "Open Examples",
                "url": "/notebooks/snippets/importing_libraries.ipynb"
              }
            ]
          }
        }
      ],
      "source": [
        "import numpy as np\n",
        "import matplotlib.pyplot as plt\n",
        "import pandas as pd\n",
        "from Data import dataset, labels"
      ]
    },
    {
      "cell_type": "code",
      "source": [
        "#sigmoid function\n",
        "def sigmoid(x):\n",
        "  return 1 / ( 1 + np.exp(-x))\n",
        "\n",
        "def recognize(input):\n",
        "    results = np.array([])\n",
        "    for i in input:\n",
        "        if i < 0.7:\n",
        "            results = np.append(results, 0)\n",
        "        else:\n",
        "            results = np.append(results, 1)\n",
        "            \n",
        "    results = results.astype(int)\n",
        "\n",
        "while True:\n",
        "    for img, lab in zip(dataset, labels):\n",
        "        lab = lab.reshape(8, 1)\n",
        "        img = img.reshape(144, 1)\n",
        "\n",
        "        #Input Layer\n",
        "        #Hidden Layer\n",
        "        #Output Layer\n",
        "        #MSE\n",
        "        output = sigmoid(x)\n",
        "        e = 1/len(output)*np.sum((output - lab))**2, axis = 0)\n",
        "        #Backpropagation            \n"
      ],
      "metadata": {
        "id": "_9v39gHGFOYR"
      },
      "execution_count": null,
      "outputs": []
    }
  ]
}